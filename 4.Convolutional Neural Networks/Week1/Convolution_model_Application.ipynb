{
 "cells": [
  {
   "cell_type": "markdown",
   "metadata": {},
   "source": [
    "# Convolutional Neural Networks: Application\n",
    "\n",
    "Welcome to Course 4's second assignment! In this notebook, you will:\n",
    "\n",
    "- Create a mood classifer using the TF Keras Sequential API\n",
    "- Build a ConvNet to identify sign language digits using the TF Keras Functional API\n",
    "\n",
    "**After this assignment you will be able to:**\n",
    "\n",
    "- Build and train a ConvNet in TensorFlow for a __binary__ classification problem\n",
    "- Build and train a ConvNet in TensorFlow for a __multiclass__ classification problem\n",
    "- Explain different use cases for the Sequential and Functional APIs\n",
    "\n",
    "To complete this assignment, you should already be familiar with TensorFlow. If you are not, please refer back to the **TensorFlow Tutorial** of the third week of Course 2 (\"**Improving deep neural networks**\").\n",
    "\n",
    "## Important Note on Submission to the AutoGrader\n",
    "\n",
    "Before submitting your assignment to the AutoGrader, please make sure you are not doing the following:\n",
    "\n",
    "1. You have not added any _extra_ `print` statement(s) in the assignment.\n",
    "2. You have not added any _extra_ code cell(s) in the assignment.\n",
    "3. You have not changed any of the function parameters.\n",
    "4. You are not using any global variables inside your graded exercises. Unless specifically instructed to do so, please refrain from it and use the local variables instead.\n",
    "5. You are not changing the assignment code where it is not required, like creating _extra_ variables.\n",
    "\n",
    "If you do any of the following, you will get something like, `Grader Error: Grader feedback not found` (or similarly unexpected) error upon submitting your assignment. Before asking for help/debugging the errors in your assignment, check for these first. If this is the case, and you don't remember the changes you have made, you can get a fresh copy of the assignment by following these [instructions](https://www.coursera.org/learn/convolutional-neural-networks/supplement/DS4yP/h-ow-to-refresh-your-workspace)."
   ]
  },
  {
   "cell_type": "markdown",
   "metadata": {},
   "source": [
    "## Table of Contents\n",
    "\n",
    "- [1 - Packages](#1)\n",
    "    - [1.1 - Load the Data and Split the Data into Train/Test Sets](#1-1)\n",
    "- [2 - Layers in TF Keras](#2)\n",
    "- [3 - The Sequential API](#3)\n",
    "    - [3.1 - Create the Sequential Model](#3-1)\n",
    "        - [Exercise 1 - happyModel](#ex-1)\n",
    "    - [3.2 - Train and Evaluate the Model](#3-2)\n",
    "- [4 - The Functional API](#4)\n",
    "    - [4.1 - Load the SIGNS Dataset](#4-1)\n",
    "    - [4.2 - Split the Data into Train/Test Sets](#4-2)\n",
    "    - [4.3 - Forward Propagation](#4-3)\n",
    "        - [Exercise 2 - convolutional_model](#ex-2)\n",
    "    - [4.4 - Train the Model](#4-4)\n",
    "- [5 - History Object](#5)\n",
    "- [6 - Bibliography](#6)"
   ]
  },
  {
   "cell_type": "markdown",
   "metadata": {},
   "source": [
    "<a name='1'></a>\n",
    "## 1 - Packages\n",
    "\n",
    "As usual, begin by loading in the packages."
   ]
  },
  {
   "cell_type": "code",
   "execution_count": 1,
   "metadata": {
    "deletable": false,
    "editable": false
   },
   "outputs": [],
   "source": [
    "### v1.1"
   ]
  },
  {
   "cell_type": "code",
   "execution_count": 2,
   "metadata": {},
   "outputs": [],
   "source": [
    "import math\n",
    "import numpy as np\n",
    "import h5py\n",
    "import matplotlib.pyplot as plt\n",
    "from matplotlib.pyplot import imread\n",
    "import scipy\n",
    "from PIL import Image\n",
    "import pandas as pd\n",
    "import tensorflow as tf\n",
    "import tensorflow.keras.layers as tfl\n",
    "from tensorflow.python.framework import ops\n",
    "from cnn_utils import *\n",
    "from test_utils import summary, comparator\n",
    "\n",
    "%matplotlib inline\n",
    "np.random.seed(1)"
   ]
  },
  {
   "cell_type": "markdown",
   "metadata": {},
   "source": [
    "<a name='1-1'></a>\n",
    "### 1.1 - Load the Data and Split the Data into Train/Test Sets\n",
    "\n",
    "You'll be using the Happy House dataset for this part of the assignment, which contains images of peoples' faces. Your task will be to build a ConvNet that determines whether the people in the images are smiling or not -- because they only get to enter the house if they're smiling!  "
   ]
  },
  {
   "cell_type": "code",
   "execution_count": 3,
   "metadata": {},
   "outputs": [
    {
     "name": "stdout",
     "output_type": "stream",
     "text": [
      "number of training examples = 600\n",
      "number of test examples = 150\n",
      "X_train shape: (600, 64, 64, 3)\n",
      "Y_train shape: (600, 1)\n",
      "X_test shape: (150, 64, 64, 3)\n",
      "Y_test shape: (150, 1)\n"
     ]
    }
   ],
   "source": [
    "X_train_orig, Y_train_orig, X_test_orig, Y_test_orig, classes = load_happy_dataset()\n",
    "\n",
    "# Normalize image vectors\n",
    "X_train = X_train_orig/255.\n",
    "X_test = X_test_orig/255.\n",
    "\n",
    "# Reshape\n",
    "Y_train = Y_train_orig.T\n",
    "Y_test = Y_test_orig.T\n",
    "\n",
    "print (\"number of training examples = \" + str(X_train.shape[0]))\n",
    "print (\"number of test examples = \" + str(X_test.shape[0]))\n",
    "print (\"X_train shape: \" + str(X_train.shape))\n",
    "print (\"Y_train shape: \" + str(Y_train.shape))\n",
    "print (\"X_test shape: \" + str(X_test.shape))\n",
    "print (\"Y_test shape: \" + str(Y_test.shape))"
   ]
  },
  {
   "cell_type": "markdown",
   "metadata": {},
   "source": [
    "You can display the images contained in the dataset. Images are **64x64** pixels in RGB format (3 channels)."
   ]
  },
  {
   "cell_type": "code",
   "execution_count": 4,
   "metadata": {},
   "outputs": [
    {
     "data": {
      "image/png": "[encoded data removed]",
      "text/plain": [
       "<Figure size 432x288 with 1 Axes>"
      ]
     },
     "metadata": {
      "needs_background": "light"
     },
     "output_type": "display_data"
    }
   ],
   "source": [
    "index = 124\n",
    "plt.imshow(X_train_orig[index]) #display sample training image\n",
    "plt.show()"
   ]
  },
  {
   "cell_type": "markdown",
   "metadata": {},
   "source": [
    "<a name='2'></a>\n",
    "## 2 - Layers in TF Keras \n",
    "\n",
    "In the previous assignment, you created layers manually in numpy. In TF Keras, you don't have to write code directly to create layers. Rather, TF Keras has pre-defined layers you can use. \n",
    "\n",
    "When you create a layer in TF Keras, you are creating a function that takes some input and transforms it into an output you can reuse later. Nice and easy! "
   ]
  },
  {
   "cell_type": "markdown",
   "metadata": {},
   "source": [
    "<a name='3'></a>\n",
    "## 3 - The Sequential API\n",
    "\n",
    "In the previous assignment, you built helper functions using `numpy` to understand the mechanics behind convolutional neural networks. Most practical applications of deep learning today are built using programming frameworks, which have many built-in functions you can simply call. Keras is a high-level abstraction built on top of TensorFlow, which allows for even more simplified and optimized model creation and training. \n",
    "\n",
    "For the first part of this assignment, you'll create a model using TF Keras' Sequential API, which allows you to build layer by layer, and is ideal for building models where each layer has **exactly one** input tensor and **one** output tensor. \n",
    "\n",
    "As you'll see, using the Sequential API is simple and straightforward, but is only appropriate for simpler, more straightforward tasks. Later in this notebook you'll spend some time building with a more flexible, powerful alternative: the Functional API. \n",
    " "
   ]
  },
  {
   "cell_type": "markdown",
   "metadata": {},
   "source": [
    "<a name='3-1'></a>\n",
    "### 3.1 - Create the Sequential Model\n",
    "\n",
    "As mentioned earlier, the TensorFlow Keras Sequential API can be used to build simple models with layer operations that proceed in a sequential order. \n",
    "\n",
    "You can also add layers incrementally to a Sequential model with the `.add()` method, or remove them using the `.pop()` method, much like you would in a regular Python list.\n",
    "\n",
    "Actually, you can think of a Sequential model as behaving like a list of layers. Like Python lists, Sequential layers are ordered, and the order in which they are specified matters.  If your model is non-linear or contains layers with multiple inputs or outputs, a Sequential model wouldn't be the right choice!\n",
    "\n",
    "For any layer construction in Keras, you'll need to specify the input shape in advance. This is because in Keras, the shape of the weights is based on the shape of the inputs. The weights are only created when the model first sees some input data. Sequential models can be created by passing a list of layers to the Sequential constructor, like you will do in the next assignment.\n",
    "\n",
    "<a name='ex-1'></a>\n",
    "### Exercise 1 - happyModel\n",
    "\n",
    "Implement the `happyModel` function below to build the following model: `ZEROPAD2D -> CONV2D -> BATCHNORM -> RELU -> MAXPOOL -> FLATTEN -> DENSE`. Take help from [tf.keras.layers](https://www.tensorflow.org/api_docs/python/tf/keras/layers) \n",
    "\n",
    "Also, plug in the following parameters for all the steps:\n",
    "\n",
    " - [ZeroPadding2D](https://www.tensorflow.org/api_docs/python/tf/keras/layers/ZeroPadding2D): padding 3, input shape 64 x 64 x 3\n",
    " - [Conv2D](https://www.tensorflow.org/api_docs/python/tf/keras/layers/Conv2D): Use 32 7x7 filters, stride 1\n",
    " - [BatchNormalization](https://www.tensorflow.org/api_docs/python/tf/keras/layers/BatchNormalization): for axis 3\n",
    " - [ReLU](https://www.tensorflow.org/api_docs/python/tf/keras/layers/ReLU)\n",
    " - [MaxPool2D](https://www.tensorflow.org/api_docs/python/tf/keras/layers/MaxPool2D): Using default parameters\n",
    " - [Flatten](https://www.tensorflow.org/api_docs/python/tf/keras/layers/Flatten) the previous output.\n",
    " - Fully-connected ([Dense](https://www.tensorflow.org/api_docs/python/tf/keras/layers/Dense)) layer: Apply a fully connected layer with 1 neuron and a sigmoid activation. \n",
    " \n",
    " \n",
    " **Hint:**\n",
    " \n",
    " Use **tfl** as shorthand for **tensorflow.keras.layers**"
   ]
  },
  {
   "cell_type": "code",
   "execution_count": 5,
   "metadata": {
    "deletable": false,
    "nbgrader": {
     "cell_type": "code",
     "checksum": "95d28b191f257bdd5b70c7b8952559d5",
     "grade": false,
     "grade_id": "cell-0e56d3fc28b69aec",
     "locked": false,
     "schema_version": 3,
     "solution": true,
     "task": false
    }
   },
   "outputs": [],
   "source": [
    "def happyModel():\n",
    "    \"\"\"\n",
    "    Implements the forward propagation for the binary classification model:\n",
    "    ZEROPAD2D -> CONV2D -> BATCHNORM -> RELU -> MAXPOOL -> FLATTEN -> DENSE\n",
    "    \n",
    "    Note that for simplicity and grading purposes, you'll hard-code all the values\n",
    "    such as the stride and kernel (filter) sizes. \n",
    "    Normally, functions should take these values as function parameters.\n",
    "    \n",
    "    Arguments:\n",
    "    None\n",
    "\n",
    "    Returns:\n",
    "    model -- TF Keras model (object containing the information for the entire training process) \n",
    "    \"\"\"\n",
    "    model = tf.keras.Sequential([\n",
    "            ## ZeroPadding2D with padding 3, input shape of 64 x 64 x 3\n",
    "            tf.keras.layers.ZeroPadding2D(padding=(3,3),input_shape=(64, 64, 3), data_format=\"channels_last\"),\n",
    "            \n",
    "            ## Conv2D with 32 7x7 filters and stride of 1\n",
    "            tf.keras.layers.Conv2D(32, (7, 7), strides = (1, 1), name = 'conv0'),\n",
    "            ## BatchNormalization for axis 3\n",
    "            tf.keras.layers.BatchNormalization(axis = 3, name = 'bn0'),\n",
    "            ## ReLU\n",
    "            tf.keras.layers.ReLU(max_value=None, negative_slope=0.0, threshold=0.0),\n",
    "            ## Max Pooling 2D with default parameters\n",
    "            tf.keras.layers.MaxPooling2D((2, 2), name='max_pool0'),\n",
    "            ## Flatten layer\n",
    "            tf.keras.layers.Flatten(),\n",
    "            ## Dense layer with 1 unit for output & 'sigmoid' activation\n",
    "            tf.keras.layers.Dense(1, activation='sigmoid', name='fc'),\n",
    "            # YOUR CODE STARTS HERE\n",
    "            \n",
    "            \n",
    "            # YOUR CODE ENDS HERE\n",
    "        ])\n",
    "    \n",
    "    return model"
   ]
  },
  {
   "cell_type": "code",
   "execution_count": 6,
   "metadata": {
    "deletable": false,
    "editable": false,
    "nbgrader": {
     "cell_type": "code",
     "checksum": "8d3575c950e2e78149be2d05d671c80d",
     "grade": true,
     "grade_id": "cell-e3e1046e5c33d775",
     "locked": true,
     "points": 10,
     "schema_version": 3,
     "solution": false,
     "task": false
    }
   },
   "outputs": [
    {
     "name": "stdout",
     "output_type": "stream",
     "text": [
      "['ZeroPadding2D', (None, 70, 70, 3), 0, ((3, 3), (3, 3))]\n",
      "['Conv2D', (None, 64, 64, 32), 4736, 'valid', 'linear', 'GlorotUniform']\n",
      "['BatchNormalization', (None, 64, 64, 32), 128]\n",
      "['ReLU', (None, 64, 64, 32), 0]\n",
      "['MaxPooling2D', (None, 32, 32, 32), 0, (2, 2), (2, 2), 'valid']\n",
      "['Flatten', (None, 32768), 0]\n",
      "['Dense', (None, 1), 32769, 'sigmoid']\n",
      "\u001b[32mAll tests passed!\u001b[0m\n"
     ]
    }
   ],
   "source": [
    "happy_model = happyModel()\n",
    "# Print a summary for each layer\n",
    "for layer in summary(happy_model):\n",
    "    print(layer)\n",
    "    \n",
    "output = [['ZeroPadding2D', (None, 70, 70, 3), 0, ((3, 3), (3, 3))],\n",
    "            ['Conv2D', (None, 64, 64, 32), 4736, 'valid', 'linear', 'GlorotUniform'],\n",
    "            ['BatchNormalization', (None, 64, 64, 32), 128],\n",
    "            ['ReLU', (None, 64, 64, 32), 0],\n",
    "            ['MaxPooling2D', (None, 32, 32, 32), 0, (2, 2), (2, 2), 'valid'],\n",
    "            ['Flatten', (None, 32768), 0],\n",
    "            ['Dense', (None, 1), 32769, 'sigmoid']]\n",
    "    \n",
    "comparator(summary(happy_model), output)"
   ]
  },
  {
   "cell_type": "markdown",
   "metadata": {},
   "source": [
    "#### Expected Output:\n",
    "\n",
    "```\n",
    "['ZeroPadding2D', (None, 70, 70, 3), 0, ((3, 3), (3, 3))]\n",
    "['Conv2D', (None, 64, 64, 32), 4736, 'valid', 'linear', 'GlorotUniform']\n",
    "['BatchNormalization', (None, 64, 64, 32), 128]\n",
    "['ReLU', (None, 64, 64, 32), 0]\n",
    "['MaxPooling2D', (None, 32, 32, 32), 0, (2, 2), (2, 2), 'valid']\n",
    "['Flatten', (None, 32768), 0]\n",
    "['Dense', (None, 1), 32769, 'sigmoid']\n",
    "All tests passed!\n",
    "```"
   ]
  },
  {
   "cell_type": "markdown",
   "metadata": {},
   "source": [
    "Now that your model is created, you can compile it for training with an optimizer and loss of your choice. When the string `accuracy` is specified as a metric, the type of accuracy used will be automatically converted based on the loss function used. This is one of the many optimizations built into TensorFlow that make your life easier! If you'd like to read more on how the compiler operates, check the docs [here](https://www.tensorflow.org/api_docs/python/tf/keras/Model#compile)."
   ]
  },
  {
   "cell_type": "code",
   "execution_count": 7,
   "metadata": {},
   "outputs": [],
   "source": [
    "happy_model.compile(optimizer='adam',\n",
    "                   loss='binary_crossentropy',\n",
    "                   metrics=['accuracy'])"
   ]
  },
  {
   "cell_type": "markdown",
   "metadata": {},
   "source": [
    "It's time to check your model's parameters with the `.summary()` method. This will display the types of layers you have, the shape of the outputs, and how many parameters are in each layer. "
   ]
  },
  {
   "cell_type": "code",
   "execution_count": 8,
   "metadata": {},
   "outputs": [
    {
     "name": "stdout",
     "output_type": "stream",
     "text": [
      "Model: \"sequential\"\n",
      "_________________________________________________________________\n",
      "Layer (type)                 Output Shape              Param #   \n",
      "=================================================================\n",
      "zero_padding2d (ZeroPadding2 (None, 70, 70, 3)         0         \n",
      "_________________________________________________________________\n",
      "conv0 (Conv2D)               (None, 64, 64, 32)        4736      \n",
      "_________________________________________________________________\n",
      "bn0 (BatchNormalization)     (None, 64, 64, 32)        128       \n",
      "_________________________________________________________________\n",
      "re_lu (ReLU)                 (None, 64, 64, 32)        0         \n",
      "_________________________________________________________________\n",
      "max_pool0 (MaxPooling2D)     (None, 32, 32, 32)        0         \n",
      "_________________________________________________________________\n",
      "flatten (Flatten)            (None, 32768)             0         \n",
      "_________________________________________________________________\n",
      "fc (Dense)                   (None, 1)                 32769     \n",
      "=================================================================\n",
      "Total params: 37,633\n",
      "Trainable params: 37,569\n",
      "Non-trainable params: 64\n",
      "_________________________________________________________________\n"
     ]
    }
   ],
   "source": [
    "happy_model.summary()"
   ]
  },
  {
   "cell_type": "markdown",
   "metadata": {},
   "source": [
    "<a name='3-2'></a>\n",
    "### 3.2 - Train and Evaluate the Model\n",
    "\n",
    "After creating the model, compiling it with your choice of optimizer and loss function, and doing a sanity check on its contents, you are now ready to build! \n",
    "\n",
    "Simply call `.fit()` to train. That's it! No need for mini-batching, saving, or complex backpropagation computations. That's all been done for you, as you're using a TensorFlow dataset with the batches specified already. You do have the option to specify epoch number or minibatch size if you like (for example, in the case of an un-batched dataset)."
   ]
  },
  {
   "cell_type": "code",
   "execution_count": 9,
   "metadata": {},
   "outputs": [
    {
     "name": "stdout",
     "output_type": "stream",
     "text": [
      "Epoch 1/10\n",
      "38/38 [==============================] - 4s 97ms/step - loss: 0.6908 - accuracy: 0.7733\n",
      "Epoch 2/10\n",
      "38/38 [==============================] - 3s 90ms/step - loss: 0.1568 - accuracy: 0.9500\n",
      "Epoch 3/10\n",
      "38/38 [==============================] - 3s 90ms/step - loss: 0.1263 - accuracy: 0.9500\n",
      "Epoch 4/10\n",
      "38/38 [==============================] - 3s 87ms/step - loss: 0.0949 - accuracy: 0.9617\n",
      "Epoch 5/10\n",
      "38/38 [==============================] - 3s 89ms/step - loss: 0.0944 - accuracy: 0.9700\n",
      "Epoch 6/10\n",
      "38/38 [==============================] - 3s 87ms/step - loss: 0.1009 - accuracy: 0.9533\n",
      "Epoch 7/10\n",
      "38/38 [==============================] - 3s 87ms/step - loss: 0.1426 - accuracy: 0.9483\n",
      "Epoch 8/10\n",
      "38/38 [==============================] - 3s 87ms/step - loss: 0.1486 - accuracy: 0.9450\n",
      "Epoch 9/10\n",
      "38/38 [==============================] - 3s 89ms/step - loss: 0.2410 - accuracy: 0.9250\n",
      "Epoch 10/10\n",
      "38/38 [==============================] - 3s 87ms/step - loss: 0.0662 - accuracy: 0.9783\n"
     ]
    },
    {
     "data": {
      "text/plain": [
       "<tensorflow.python.keras.callbacks.History at 0x72dbd56e6bd0>"
      ]
     },
     "execution_count": 9,
     "metadata": {},
     "output_type": "execute_result"
    }
   ],
   "source": [
    "happy_model.fit(X_train, Y_train, epochs=10, batch_size=16)"
   ]
  },
  {
   "cell_type": "markdown",
   "metadata": {},
   "source": [
    "After that completes, just use `.evaluate()` to evaluate against your test set. This function will print the value of the loss function and the performance metrics specified during the compilation of the model. In this case, the `binary_crossentropy` and the `accuracy` respectively."
   ]
  },
  {
   "cell_type": "code",
   "execution_count": 10,
   "metadata": {},
   "outputs": [
    {
     "name": "stdout",
     "output_type": "stream",
     "text": [
      "5/5 [==============================] - 0s 24ms/step - loss: 2.4067 - accuracy: 0.6400\n"
     ]
    },
    {
     "data": {
      "text/plain": [
       "[2.4067060947418213, 0.6399999856948853]"
      ]
     },
     "execution_count": 10,
     "metadata": {},
     "output_type": "execute_result"
    }
   ],
   "source": [
    "happy_model.evaluate(X_test, Y_test)"
   ]
  },
  {
   "cell_type": "markdown",
   "metadata": {},
   "source": [
    "Easy, right? But what if you need to build a model with shared layers, branches, or multiple inputs and outputs? This is where Sequential, with its beautifully simple yet limited functionality, won't be able to help you. \n",
    "\n",
    "Next up: Enter the Functional API, your slightly more complex, highly flexible friend.  "
   ]
  },
  {
   "cell_type": "markdown",
   "metadata": {},
   "source": [
    "<a name='4'></a>\n",
    "## 4 - The Functional API"
   ]
  },
  {
   "cell_type": "markdown",
   "metadata": {},
   "source": [
    "Welcome to the second half of the assignment, where you'll use Keras' flexible [Functional API](https://www.tensorflow.org/guide/keras/functional) to build a ConvNet that can differentiate between 6 sign language digits. \n",
    "\n",
    "The Functional API can handle models with non-linear topology, shared layers, as well as layers with multiple inputs or outputs. Imagine that, where the Sequential API requires the model to move in a linear fashion through its layers, the Functional API allows much more flexibility. Where Sequential is a straight line, a Functional model is a graph, where the nodes of the layers can connect in many more ways than one. \n",
    "\n",
    "In the visual example below, the one possible direction of the movement Sequential model is shown in contrast to a skip connection, which is just one of the many ways a Functional model can be constructed. A skip connection, as you might have guessed, skips some layer in the network and feeds the output to a later layer in the network. Don't worry, you'll be spending more time with skip connections very soon! "
   ]
  },
  {
   "cell_type": "markdown",
   "metadata": {},
   "source": [
    "<img src=\"images/seq_vs_func.png\" style=\"width:350px;height:200px;\">"
   ]
  },
  {
   "cell_type": "markdown",
   "metadata": {},
   "source": [
    "<a name='4-1'></a>\n",
    "### 4.1 - Load the SIGNS Dataset\n",
    "\n",
    "As a reminder, the SIGNS dataset is a collection of 6 signs representing numbers from 0 to 5."
   ]
  },
  {
   "cell_type": "code",
   "execution_count": 11,
   "metadata": {},
   "outputs": [],
   "source": [
    "# Loading the data (signs)\n",
    "X_train_orig, Y_train_orig, X_test_orig, Y_test_orig, classes = load_signs_dataset()"
   ]
  },
  {
   "cell_type": "markdown",
   "metadata": {},
   "source": [
    "<img src=\"images/SIGNS.png\" style=\"width:800px;height:300px;\">\n",
    "\n",
    "The next cell will show you an example of a labelled image in the dataset. Feel free to change the value of `index` below and re-run to see different examples. "
   ]
  },
  {
   "cell_type": "code",
   "execution_count": 12,
   "metadata": {},
   "outputs": [
    {
     "name": "stdout",
     "output_type": "stream",
     "text": [
      "y = 4\n"
     ]
    },
    {
     "data": {
      "image/png": "[encoded data removed]",
      "text/plain": [
       "<Figure size 432x288 with 1 Axes>"
      ]
     },
     "metadata": {
      "needs_background": "light"
     },
     "output_type": "display_data"
    }
   ],
   "source": [
    "# Example of an image from the dataset\n",
    "index = 9\n",
    "plt.imshow(X_train_orig[index])\n",
    "print (\"y = \" + str(np.squeeze(Y_train_orig[:, index])))"
   ]
  },
  {
   "cell_type": "markdown",
   "metadata": {},
   "source": [
    "<a name='4-2'></a>\n",
    "### 4.2 - Split the Data into Train/Test Sets\n",
    "\n",
    "In Course 2, you built a fully-connected network for this dataset. But since this is an image dataset, it is more natural to apply a ConvNet to it.\n",
    "\n",
    "To get started, let's examine the shapes of your data. "
   ]
  },
  {
   "cell_type": "code",
   "execution_count": 13,
   "metadata": {},
   "outputs": [
    {
     "name": "stdout",
     "output_type": "stream",
     "text": [
      "number of training examples = 1080\n",
      "number of test examples = 120\n",
      "X_train shape: (1080, 64, 64, 3)\n",
      "Y_train shape: (1080, 6)\n",
      "X_test shape: (120, 64, 64, 3)\n",
      "Y_test shape: (120, 6)\n"
     ]
    }
   ],
   "source": [
    "X_train = X_train_orig/255.\n",
    "X_test = X_test_orig/255.\n",
    "Y_train = convert_to_one_hot(Y_train_orig, 6).T\n",
    "Y_test = convert_to_one_hot(Y_test_orig, 6).T\n",
    "print (\"number of training examples = \" + str(X_train.shape[0]))\n",
    "print (\"number of test examples = \" + str(X_test.shape[0]))\n",
    "print (\"X_train shape: \" + str(X_train.shape))\n",
    "print (\"Y_train shape: \" + str(Y_train.shape))\n",
    "print (\"X_test shape: \" + str(X_test.shape))\n",
    "print (\"Y_test shape: \" + str(Y_test.shape))"
   ]
  },
  {
   "cell_type": "markdown",
   "metadata": {},
   "source": [
    "<a name='4-3'></a>\n",
    "### 4.3 - Forward Propagation\n",
    "\n",
    "In TensorFlow, there are built-in functions that implement the convolution steps for you. By now, you should be familiar with how TensorFlow builds computational graphs. In the [Functional API](https://www.tensorflow.org/guide/keras/functional), you create a graph of layers. This is what allows such great flexibility.\n",
    "\n",
    "However, the following model could also be defined using the Sequential API since the information flow is on a single line. But don't deviate. What we want you to learn is to use the functional API.\n",
    "\n",
    "Begin building your graph of layers by creating an input node that functions as a callable object:\n",
    "\n",
    "- **input_img = tf.keras.Input(shape=input_shape):** \n",
    "\n",
    "Then, create a new node in the graph of layers by calling a layer on the `input_img` object: \n",
    "\n",
    "- **tf.keras.layers.Conv2D(filters= ... , kernel_size= ... , padding='same')(input_img):** Read the full documentation on [Conv2D](https://www.tensorflow.org/api_docs/python/tf/keras/layers/Conv2D).\n",
    "\n",
    "- **tf.keras.layers.MaxPool2D(pool_size=(f, f), strides=(s, s), padding='same'):** `MaxPool2D()` downsamples your input using a window of size (f, f) and strides of size (s, s) to carry out max pooling over each window.  For max pooling, you usually operate on a single example at a time and a single channel at a time. Read the full documentation on [MaxPool2D](https://www.tensorflow.org/api_docs/python/tf/keras/layers/MaxPool2D).\n",
    "\n",
    "- **tf.keras.layers.ReLU():** computes the elementwise ReLU of Z (which can be any shape). You can read the full documentation on [ReLU](https://www.tensorflow.org/api_docs/python/tf/keras/layers/ReLU).\n",
    "\n",
    "- **tf.keras.layers.Flatten()**: given a tensor \"P\", this function takes each training (or test) example in the batch and flattens it into a 1D vector.  \n",
    "\n",
    "    * If a tensor P has the shape (batch_size,h,w,c), it returns a flattened tensor with shape (batch_size, k), where $k=h \\times w \\times c$.  \"k\" equals the product of all the dimension sizes other than the first dimension.\n",
    "    \n",
    "    * For example, given a tensor with dimensions [100, 2, 3, 4], it flattens the tensor to be of shape [100, 24], where 24 = 2 * 3 * 4.  You can read the full documentation on [Flatten](https://www.tensorflow.org/api_docs/python/tf/keras/layers/Flatten).\n",
    "\n",
    "- **tf.keras.layers.Dense(units= ... , activation='softmax')(F):** given the flattened input F, it returns the output computed using a fully connected layer. You can read the full documentation on [Dense](https://www.tensorflow.org/api_docs/python/tf/keras/layers/Dense).\n",
    "\n",
    "In the last function above (`tf.keras.layers.Dense()`), the fully connected layer automatically initializes weights in the graph and keeps on training them as you train the model. Hence, you did not need to initialize those weights when initializing the parameters.\n",
    "\n",
    "Lastly, before creating the model, you'll need to define the output using the last of the function's compositions (in this example, a Dense layer): \n",
    "\n",
    "- **outputs = tf.keras.layers.Dense(units=6, activation='softmax')(F)**\n",
    "\n",
    "\n",
    "#### Window, kernel, filter, pool\n",
    "\n",
    "The words \"kernel\" and \"filter\" are used to refer to the same thing. The word \"filter\" accounts for the amount of \"kernels\" that will be used in a single convolution layer. \"Pool\" is the name of the operation that takes the max or average value of the kernels. \n",
    "\n",
    "This is why the parameter `pool_size` refers to `kernel_size`, and you use `(f,f)` to refer to the filter size. \n",
    "\n",
    "Pool size and kernel size refer to the same thing in different objects - They refer to the shape of the window where the operation takes place. "
   ]
  },
  {
   "cell_type": "markdown",
   "metadata": {},
   "source": [
    "<a name='ex-2'></a>\n",
    "### Exercise 2 - convolutional_model\n",
    "\n",
    "Implement the `convolutional_model` function below to build the following model: `CONV2D -> RELU -> MAXPOOL -> CONV2D -> RELU -> MAXPOOL -> FLATTEN -> DENSE`. Use the functions above! \n",
    "\n",
    "Also, plug in the following parameters for all the steps:\n",
    "\n",
    " - [Conv2D](https://www.tensorflow.org/api_docs/python/tf/keras/layers/Conv2D): Use 8 4 by 4 filters, stride 1, padding is \"SAME\"\n",
    " - [ReLU](https://www.tensorflow.org/api_docs/python/tf/keras/layers/ReLU)\n",
    " - [MaxPool2D](https://www.tensorflow.org/api_docs/python/tf/keras/layers/MaxPool2D): Use an 8 by 8 filter size and an 8 by 8 stride, padding is \"SAME\"\n",
    " - **Conv2D**: Use 16 2 by 2 filters, stride 1, padding is \"SAME\"\n",
    " - **ReLU**\n",
    " - **MaxPool2D**: Use a 4 by 4 filter size and a 4 by 4 stride, padding is \"SAME\"\n",
    " - [Flatten](https://www.tensorflow.org/api_docs/python/tf/keras/layers/Flatten) the previous output.\n",
    " - Fully-connected ([Dense](https://www.tensorflow.org/api_docs/python/tf/keras/layers/Dense)) layer: Apply a fully connected layer with 6 neurons and a softmax activation. "
   ]
  },
  {
   "cell_type": "code",
   "execution_count": 14,
   "metadata": {
    "deletable": false,
    "nbgrader": {
     "cell_type": "code",
     "checksum": "f58643806aa8380c96225fc8b4c5e7aa",
     "grade": false,
     "grade_id": "cell-dac51744a9e03f51",
     "locked": false,
     "schema_version": 3,
     "solution": true,
     "task": false
    }
   },
   "outputs": [],
   "source": [
    "# GRADED FUNCTION: convolutional_model\n",
    "\n",
    "def convolutional_model(input_shape):\n",
    "    \"\"\"\n",
    "    Implements the forward propagation for the model:\n",
    "    CONV2D -> RELU -> MAXPOOL -> CONV2D -> RELU -> MAXPOOL -> FLATTEN -> DENSE\n",
    "    \n",
    "    Note that for simplicity and grading purposes, you'll hard-code some values\n",
    "    such as the stride and kernel (filter) sizes. \n",
    "    Normally, functions should take these values as function parameters.\n",
    "    \n",
    "    Arguments:\n",
    "    input_img -- input dataset, of shape (input_shape)\n",
    "\n",
    "    Returns:\n",
    "    model -- TF Keras model (object containing the information for the entire training process) \n",
    "    \"\"\"\n",
    "\n",
    "    input_img = tf.keras.Input(shape=input_shape)\n",
    "    ## CONV2D: 8 filters 4x4, stride of 1, padding 'SAME'\n",
    "    # Z1 = None\n",
    "    ## RELU\n",
    "    # A1 = None\n",
    "    ## MAXPOOL: window 8x8, stride 8, padding 'SAME'\n",
    "    # P1 = None\n",
    "    ## CONV2D: 16 filters 2x2, stride 1, padding 'SAME'\n",
    "    # Z2 = None\n",
    "    ## RELU\n",
    "    # A2 = None\n",
    "    ## MAXPOOL: window 4x4, stride 4, padding 'SAME'\n",
    "    # P2 = None\n",
    "    ## FLATTEN\n",
    "    # F = None\n",
    "    ## Dense layer\n",
    "    ## 6 neurons in output layer. Hint: one of the arguments should be \"activation='softmax'\" \n",
    "    # outputs = None\n",
    "    # YOUR CODE STARTS HERE\n",
    "    Z1 = tf.keras.layers.Conv2D(filters = 8 , kernel_size= (4,4), strides = (1,1), padding='same')(input_img)\n",
    "    A1 = tf.keras.layers.ReLU()(Z1)\n",
    "    P1 = tf.keras.layers.MaxPool2D(pool_size=(8,8), strides=(8, 8), padding='same')(A1)\n",
    "    Z2 = tf.keras.layers.Conv2D(filters = 16 , kernel_size= (2,2), strides = (1,1), padding='same')(P1)\n",
    "    A2 = tf.keras.layers.ReLU()(Z2)\n",
    "    P2 = tf.keras.layers.MaxPool2D(pool_size=(4,4), strides=(4, 4), padding='same')(A2)\n",
    "    F = tf.keras.layers.Flatten()(P2)\n",
    "    outputs = tf.keras.layers.Dense(units=6, activation='softmax')(F)\n",
    "    \n",
    "    # YOUR CODE ENDS HERE\n",
    "    model = tf.keras.Model(inputs=input_img, outputs=outputs)\n",
    "    return model"
   ]
  },
  {
   "cell_type": "code",
   "execution_count": 15,
   "metadata": {
    "deletable": false,
    "editable": false,
    "nbgrader": {
     "cell_type": "code",
     "checksum": "483d626949930a0b0ef20997e7c6ba72",
     "grade": true,
     "grade_id": "cell-45d22e92042174c9",
     "locked": true,
     "points": 10,
     "schema_version": 3,
     "solution": false,
     "task": false
    }
   },
   "outputs": [
    {
     "name": "stdout",
     "output_type": "stream",
     "text": [
      "Model: \"functional_1\"\n",
      "_________________________________________________________________\n",
      "Layer (type)                 Output Shape              Param #   \n",
      "=================================================================\n",
      "input_1 (InputLayer)         [(None, 64, 64, 3)]       0         \n",
      "_________________________________________________________________\n",
      "conv2d (Conv2D)              (None, 64, 64, 8)         392       \n",
      "_________________________________________________________________\n",
      "re_lu_1 (ReLU)               (None, 64, 64, 8)         0         \n",
      "_________________________________________________________________\n",
      "max_pooling2d (MaxPooling2D) (None, 8, 8, 8)           0         \n",
      "_________________________________________________________________\n",
      "conv2d_1 (Conv2D)            (None, 8, 8, 16)          528       \n",
      "_________________________________________________________________\n",
      "re_lu_2 (ReLU)               (None, 8, 8, 16)          0         \n",
      "_________________________________________________________________\n",
      "max_pooling2d_1 (MaxPooling2 (None, 2, 2, 16)          0         \n",
      "_________________________________________________________________\n",
      "flatten_1 (Flatten)          (None, 64)                0         \n",
      "_________________________________________________________________\n",
      "dense (Dense)                (None, 6)                 390       \n",
      "=================================================================\n",
      "Total params: 1,310\n",
      "Trainable params: 1,310\n",
      "Non-trainable params: 0\n",
      "_________________________________________________________________\n",
      "\u001b[32mAll tests passed!\u001b[0m\n"
     ]
    }
   ],
   "source": [
    "conv_model = convolutional_model((64, 64, 3))\n",
    "conv_model.compile(optimizer='adam',\n",
    "                  loss='categorical_crossentropy',\n",
    "                  metrics=['accuracy'])\n",
    "conv_model.summary()\n",
    "    \n",
    "output = [['InputLayer', [(None, 64, 64, 3)], 0],\n",
    "        ['Conv2D', (None, 64, 64, 8), 392, 'same', 'linear', 'GlorotUniform'],\n",
    "        ['ReLU', (None, 64, 64, 8), 0],\n",
    "        ['MaxPooling2D', (None, 8, 8, 8), 0, (8, 8), (8, 8), 'same'],\n",
    "        ['Conv2D', (None, 8, 8, 16), 528, 'same', 'linear', 'GlorotUniform'],\n",
    "        ['ReLU', (None, 8, 8, 16), 0],\n",
    "        ['MaxPooling2D', (None, 2, 2, 16), 0, (4, 4), (4, 4), 'same'],\n",
    "        ['Flatten', (None, 64), 0],\n",
    "        ['Dense', (None, 6), 390, 'softmax']]\n",
    "    \n",
    "comparator(summary(conv_model), output)"
   ]
  },
  {
   "cell_type": "markdown",
   "metadata": {},
   "source": [
    "Both the Sequential and Functional APIs return a TF Keras model object. The only difference is how inputs are handled inside the object model! "
   ]
  },
  {
   "cell_type": "markdown",
   "metadata": {},
   "source": [
    "<a name='4-4'></a>\n",
    "### 4.4 - Train the Model"
   ]
  },
  {
   "cell_type": "code",
   "execution_count": 16,
   "metadata": {},
   "outputs": [
    {
     "name": "stdout",
     "output_type": "stream",
     "text": [
      "Epoch 1/100\n",
      "17/17 [==============================] - 2s 108ms/step - loss: 1.8956 - accuracy: 0.1704 - val_loss: 1.7973 - val_accuracy: 0.2167\n",
      "Epoch 2/100\n",
      "17/17 [==============================] - 2s 99ms/step - loss: 1.7964 - accuracy: 0.1907 - val_loss: 1.7903 - val_accuracy: 0.1833\n",
      "Epoch 3/100\n",
      "17/17 [==============================] - 2s 99ms/step - loss: 1.7887 - accuracy: 0.1815 - val_loss: 1.7825 - val_accuracy: 0.2667\n",
      "Epoch 4/100\n",
      "17/17 [==============================] - 2s 100ms/step - loss: 1.7848 - accuracy: 0.2074 - val_loss: 1.7796 - val_accuracy: 0.2833\n",
      "Epoch 5/100\n",
      "17/17 [==============================] - 2s 99ms/step - loss: 1.7816 - accuracy: 0.2111 - val_loss: 1.7777 - val_accuracy: 0.2250\n",
      "Epoch 6/100\n",
      "17/17 [==============================] - 2s 99ms/step - loss: 1.7782 - accuracy: 0.2380 - val_loss: 1.7738 - val_accuracy: 0.3083\n",
      "Epoch 7/100\n",
      "17/17 [==============================] - 2s 100ms/step - loss: 1.7740 - accuracy: 0.2444 - val_loss: 1.7703 - val_accuracy: 0.2917\n",
      "Epoch 8/100\n",
      "17/17 [==============================] - 2s 99ms/step - loss: 1.7699 - accuracy: 0.2611 - val_loss: 1.7660 - val_accuracy: 0.3250\n",
      "Epoch 9/100\n",
      "17/17 [==============================] - 2s 99ms/step - loss: 1.7654 - accuracy: 0.2824 - val_loss: 1.7612 - val_accuracy: 0.3250\n",
      "Epoch 10/100\n",
      "17/17 [==============================] - 2s 100ms/step - loss: 1.7599 - accuracy: 0.3074 - val_loss: 1.7558 - val_accuracy: 0.3667\n",
      "Epoch 11/100\n",
      "17/17 [==============================] - 2s 100ms/step - loss: 1.7536 - accuracy: 0.3269 - val_loss: 1.7493 - val_accuracy: 0.3917\n",
      "Epoch 12/100\n",
      "17/17 [==============================] - 2s 105ms/step - loss: 1.7463 - accuracy: 0.3556 - val_loss: 1.7415 - val_accuracy: 0.4000\n",
      "Epoch 13/100\n",
      "17/17 [==============================] - 2s 100ms/step - loss: 1.7375 - accuracy: 0.3815 - val_loss: 1.7316 - val_accuracy: 0.4333\n",
      "Epoch 14/100\n",
      "17/17 [==============================] - 2s 99ms/step - loss: 1.7264 - accuracy: 0.3861 - val_loss: 1.7207 - val_accuracy: 0.4417\n",
      "Epoch 15/100\n",
      "17/17 [==============================] - 2s 95ms/step - loss: 1.7120 - accuracy: 0.4343 - val_loss: 1.7042 - val_accuracy: 0.4750\n",
      "Epoch 16/100\n",
      "17/17 [==============================] - 2s 100ms/step - loss: 1.6934 - accuracy: 0.4417 - val_loss: 1.6837 - val_accuracy: 0.4750\n",
      "Epoch 17/100\n",
      "17/17 [==============================] - 2s 99ms/step - loss: 1.6691 - accuracy: 0.4574 - val_loss: 1.6591 - val_accuracy: 0.4750\n",
      "Epoch 18/100\n",
      "17/17 [==============================] - 2s 100ms/step - loss: 1.6398 - accuracy: 0.4806 - val_loss: 1.6290 - val_accuracy: 0.4750\n",
      "Epoch 19/100\n",
      "17/17 [==============================] - 2s 100ms/step - loss: 1.6052 - accuracy: 0.4954 - val_loss: 1.5955 - val_accuracy: 0.5000\n",
      "Epoch 20/100\n",
      "17/17 [==============================] - 2s 98ms/step - loss: 1.5651 - accuracy: 0.5148 - val_loss: 1.5577 - val_accuracy: 0.4833\n",
      "Epoch 21/100\n",
      "17/17 [==============================] - 2s 100ms/step - loss: 1.5202 - accuracy: 0.5315 - val_loss: 1.5162 - val_accuracy: 0.4750\n",
      "Epoch 22/100\n",
      "17/17 [==============================] - 2s 99ms/step - loss: 1.4740 - accuracy: 0.5398 - val_loss: 1.4724 - val_accuracy: 0.4833\n",
      "Epoch 23/100\n",
      "17/17 [==============================] - 2s 100ms/step - loss: 1.4267 - accuracy: 0.5500 - val_loss: 1.4295 - val_accuracy: 0.4917\n",
      "Epoch 24/100\n",
      "17/17 [==============================] - 2s 105ms/step - loss: 1.3804 - accuracy: 0.5565 - val_loss: 1.3894 - val_accuracy: 0.4833\n",
      "Epoch 25/100\n",
      "17/17 [==============================] - 2s 99ms/step - loss: 1.3362 - accuracy: 0.5759 - val_loss: 1.3513 - val_accuracy: 0.4750\n",
      "Epoch 26/100\n",
      "17/17 [==============================] - 2s 100ms/step - loss: 1.2946 - accuracy: 0.5815 - val_loss: 1.3154 - val_accuracy: 0.4500\n",
      "Epoch 27/100\n",
      "17/17 [==============================] - 2s 101ms/step - loss: 1.2559 - accuracy: 0.5843 - val_loss: 1.2792 - val_accuracy: 0.4667\n",
      "Epoch 28/100\n",
      "17/17 [==============================] - 2s 100ms/step - loss: 1.2193 - accuracy: 0.6019 - val_loss: 1.2482 - val_accuracy: 0.4833\n",
      "Epoch 29/100\n",
      "17/17 [==============================] - 2s 94ms/step - loss: 1.1852 - accuracy: 0.6130 - val_loss: 1.2167 - val_accuracy: 0.5083\n",
      "Epoch 30/100\n",
      "17/17 [==============================] - 2s 100ms/step - loss: 1.1535 - accuracy: 0.6278 - val_loss: 1.1879 - val_accuracy: 0.5167\n",
      "Epoch 31/100\n",
      "17/17 [==============================] - 2s 100ms/step - loss: 1.1235 - accuracy: 0.6296 - val_loss: 1.1608 - val_accuracy: 0.5417\n",
      "Epoch 32/100\n",
      "17/17 [==============================] - 2s 99ms/step - loss: 1.0959 - accuracy: 0.6361 - val_loss: 1.1355 - val_accuracy: 0.5333\n",
      "Epoch 33/100\n",
      "17/17 [==============================] - 2s 99ms/step - loss: 1.0700 - accuracy: 0.6398 - val_loss: 1.1118 - val_accuracy: 0.5417\n",
      "Epoch 34/100\n",
      "17/17 [==============================] - 2s 94ms/step - loss: 1.0457 - accuracy: 0.6481 - val_loss: 1.0875 - val_accuracy: 0.5833\n",
      "Epoch 35/100\n",
      "17/17 [==============================] - 2s 99ms/step - loss: 1.0214 - accuracy: 0.6593 - val_loss: 1.0647 - val_accuracy: 0.6083\n",
      "Epoch 36/100\n",
      "17/17 [==============================] - 2s 100ms/step - loss: 1.0003 - accuracy: 0.6583 - val_loss: 1.0362 - val_accuracy: 0.6083\n",
      "Epoch 37/100\n",
      "17/17 [==============================] - 2s 96ms/step - loss: 0.9765 - accuracy: 0.6648 - val_loss: 1.0216 - val_accuracy: 0.6417\n",
      "Epoch 38/100\n",
      "17/17 [==============================] - 2s 100ms/step - loss: 0.9536 - accuracy: 0.6796 - val_loss: 0.9981 - val_accuracy: 0.6667\n",
      "Epoch 39/100\n",
      "17/17 [==============================] - 2s 100ms/step - loss: 0.9324 - accuracy: 0.6796 - val_loss: 0.9798 - val_accuracy: 0.6333\n",
      "Epoch 40/100\n",
      "17/17 [==============================] - 2s 101ms/step - loss: 0.9135 - accuracy: 0.6861 - val_loss: 0.9636 - val_accuracy: 0.6500\n",
      "Epoch 41/100\n",
      "17/17 [==============================] - 2s 100ms/step - loss: 0.8944 - accuracy: 0.6907 - val_loss: 0.9466 - val_accuracy: 0.6667\n",
      "Epoch 42/100\n",
      "17/17 [==============================] - 2s 100ms/step - loss: 0.8756 - accuracy: 0.6917 - val_loss: 0.9302 - val_accuracy: 0.6833\n",
      "Epoch 43/100\n",
      "17/17 [==============================] - 2s 99ms/step - loss: 0.8573 - accuracy: 0.6981 - val_loss: 0.9141 - val_accuracy: 0.6750\n",
      "Epoch 44/100\n",
      "17/17 [==============================] - 2s 100ms/step - loss: 0.8403 - accuracy: 0.7046 - val_loss: 0.9018 - val_accuracy: 0.6833\n",
      "Epoch 45/100\n",
      "17/17 [==============================] - 2s 95ms/step - loss: 0.8238 - accuracy: 0.7148 - val_loss: 0.8852 - val_accuracy: 0.6917\n",
      "Epoch 46/100\n",
      "17/17 [==============================] - 2s 100ms/step - loss: 0.8057 - accuracy: 0.7231 - val_loss: 0.8704 - val_accuracy: 0.6833\n",
      "Epoch 47/100\n",
      "17/17 [==============================] - 2s 101ms/step - loss: 0.7914 - accuracy: 0.7296 - val_loss: 0.8636 - val_accuracy: 0.6750\n",
      "Epoch 48/100\n",
      "17/17 [==============================] - 2s 105ms/step - loss: 0.7759 - accuracy: 0.7389 - val_loss: 0.8482 - val_accuracy: 0.6750\n",
      "Epoch 49/100\n",
      "17/17 [==============================] - 2s 94ms/step - loss: 0.7612 - accuracy: 0.7407 - val_loss: 0.8383 - val_accuracy: 0.6917\n",
      "Epoch 50/100\n",
      "17/17 [==============================] - 2s 99ms/step - loss: 0.7473 - accuracy: 0.7435 - val_loss: 0.8256 - val_accuracy: 0.7000\n",
      "Epoch 51/100\n",
      "17/17 [==============================] - 2s 99ms/step - loss: 0.7332 - accuracy: 0.7454 - val_loss: 0.8158 - val_accuracy: 0.7167\n",
      "Epoch 52/100\n",
      "17/17 [==============================] - 2s 99ms/step - loss: 0.7215 - accuracy: 0.7519 - val_loss: 0.8057 - val_accuracy: 0.7167\n",
      "Epoch 53/100\n",
      "17/17 [==============================] - 2s 99ms/step - loss: 0.7091 - accuracy: 0.7546 - val_loss: 0.7961 - val_accuracy: 0.7167\n",
      "Epoch 54/100\n",
      "17/17 [==============================] - 2s 100ms/step - loss: 0.6971 - accuracy: 0.7611 - val_loss: 0.7875 - val_accuracy: 0.7167\n",
      "Epoch 55/100\n",
      "17/17 [==============================] - 2s 100ms/step - loss: 0.6862 - accuracy: 0.7648 - val_loss: 0.7781 - val_accuracy: 0.7250\n",
      "Epoch 56/100\n",
      "17/17 [==============================] - 2s 94ms/step - loss: 0.6748 - accuracy: 0.7741 - val_loss: 0.7698 - val_accuracy: 0.7167\n",
      "Epoch 57/100\n",
      "17/17 [==============================] - 2s 100ms/step - loss: 0.6641 - accuracy: 0.7759 - val_loss: 0.7602 - val_accuracy: 0.7250\n",
      "Epoch 58/100\n",
      "17/17 [==============================] - 2s 101ms/step - loss: 0.6528 - accuracy: 0.7806 - val_loss: 0.7520 - val_accuracy: 0.7417\n",
      "Epoch 59/100\n",
      "17/17 [==============================] - 2s 99ms/step - loss: 0.6428 - accuracy: 0.7852 - val_loss: 0.7431 - val_accuracy: 0.7417\n",
      "Epoch 60/100\n",
      "17/17 [==============================] - 2s 100ms/step - loss: 0.6326 - accuracy: 0.7898 - val_loss: 0.7358 - val_accuracy: 0.7417\n",
      "Epoch 61/100\n",
      "17/17 [==============================] - 2s 100ms/step - loss: 0.6230 - accuracy: 0.7944 - val_loss: 0.7284 - val_accuracy: 0.7500\n",
      "Epoch 62/100\n",
      "17/17 [==============================] - 2s 100ms/step - loss: 0.6135 - accuracy: 0.7972 - val_loss: 0.7212 - val_accuracy: 0.7500\n",
      "Epoch 63/100\n",
      "17/17 [==============================] - 2s 99ms/step - loss: 0.6048 - accuracy: 0.7991 - val_loss: 0.7148 - val_accuracy: 0.7500\n",
      "Epoch 64/100\n",
      "17/17 [==============================] - 2s 99ms/step - loss: 0.5964 - accuracy: 0.8028 - val_loss: 0.7073 - val_accuracy: 0.7500\n",
      "Epoch 65/100\n",
      "17/17 [==============================] - 2s 100ms/step - loss: 0.5879 - accuracy: 0.8074 - val_loss: 0.7028 - val_accuracy: 0.7500\n",
      "Epoch 66/100\n",
      "17/17 [==============================] - 2s 99ms/step - loss: 0.5802 - accuracy: 0.8102 - val_loss: 0.6943 - val_accuracy: 0.7500\n",
      "Epoch 67/100\n",
      "17/17 [==============================] - 2s 99ms/step - loss: 0.5719 - accuracy: 0.8111 - val_loss: 0.6891 - val_accuracy: 0.7500\n",
      "Epoch 68/100\n",
      "17/17 [==============================] - 2s 99ms/step - loss: 0.5644 - accuracy: 0.8120 - val_loss: 0.6826 - val_accuracy: 0.7500\n",
      "Epoch 69/100\n",
      "17/17 [==============================] - 2s 100ms/step - loss: 0.5567 - accuracy: 0.8120 - val_loss: 0.6774 - val_accuracy: 0.7500\n",
      "Epoch 70/100\n",
      "17/17 [==============================] - 2s 99ms/step - loss: 0.5488 - accuracy: 0.8176 - val_loss: 0.6700 - val_accuracy: 0.7500\n",
      "Epoch 71/100\n",
      "17/17 [==============================] - 2s 99ms/step - loss: 0.5416 - accuracy: 0.8176 - val_loss: 0.6663 - val_accuracy: 0.7500\n",
      "Epoch 72/100\n",
      "17/17 [==============================] - 2s 100ms/step - loss: 0.5349 - accuracy: 0.8185 - val_loss: 0.6595 - val_accuracy: 0.7500\n",
      "Epoch 73/100\n",
      "17/17 [==============================] - 2s 101ms/step - loss: 0.5278 - accuracy: 0.8213 - val_loss: 0.6548 - val_accuracy: 0.7500\n",
      "Epoch 74/100\n",
      "17/17 [==============================] - 2s 96ms/step - loss: 0.5210 - accuracy: 0.8231 - val_loss: 0.6494 - val_accuracy: 0.7500\n",
      "Epoch 75/100\n",
      "17/17 [==============================] - 2s 99ms/step - loss: 0.5142 - accuracy: 0.8269 - val_loss: 0.6449 - val_accuracy: 0.7500\n",
      "Epoch 76/100\n",
      "17/17 [==============================] - 2s 99ms/step - loss: 0.5083 - accuracy: 0.8278 - val_loss: 0.6398 - val_accuracy: 0.7583\n",
      "Epoch 77/100\n",
      "17/17 [==============================] - 2s 99ms/step - loss: 0.5019 - accuracy: 0.8343 - val_loss: 0.6356 - val_accuracy: 0.7583\n",
      "Epoch 78/100\n",
      "17/17 [==============================] - 2s 99ms/step - loss: 0.4956 - accuracy: 0.8343 - val_loss: 0.6319 - val_accuracy: 0.7667\n",
      "Epoch 79/100\n",
      "17/17 [==============================] - 2s 99ms/step - loss: 0.4898 - accuracy: 0.8370 - val_loss: 0.6266 - val_accuracy: 0.7667\n",
      "Epoch 80/100\n",
      "17/17 [==============================] - 2s 99ms/step - loss: 0.4839 - accuracy: 0.8398 - val_loss: 0.6237 - val_accuracy: 0.7917\n",
      "Epoch 81/100\n",
      "17/17 [==============================] - 2s 99ms/step - loss: 0.4782 - accuracy: 0.8407 - val_loss: 0.6189 - val_accuracy: 0.7917\n",
      "Epoch 82/100\n",
      "17/17 [==============================] - 2s 99ms/step - loss: 0.4725 - accuracy: 0.8426 - val_loss: 0.6156 - val_accuracy: 0.7917\n",
      "Epoch 83/100\n",
      "17/17 [==============================] - 2s 98ms/step - loss: 0.4666 - accuracy: 0.8463 - val_loss: 0.6107 - val_accuracy: 0.7917\n",
      "Epoch 84/100\n",
      "17/17 [==============================] - 2s 99ms/step - loss: 0.4614 - accuracy: 0.8481 - val_loss: 0.6083 - val_accuracy: 0.7833\n",
      "Epoch 85/100\n",
      "17/17 [==============================] - 2s 100ms/step - loss: 0.4560 - accuracy: 0.8491 - val_loss: 0.6057 - val_accuracy: 0.7833\n",
      "Epoch 86/100\n",
      "17/17 [==============================] - 2s 100ms/step - loss: 0.4506 - accuracy: 0.8546 - val_loss: 0.6030 - val_accuracy: 0.7833\n",
      "Epoch 87/100\n",
      "17/17 [==============================] - 2s 94ms/step - loss: 0.4455 - accuracy: 0.8583 - val_loss: 0.5987 - val_accuracy: 0.7833\n",
      "Epoch 88/100\n",
      "17/17 [==============================] - 2s 99ms/step - loss: 0.4404 - accuracy: 0.8639 - val_loss: 0.5963 - val_accuracy: 0.7833\n",
      "Epoch 89/100\n",
      "17/17 [==============================] - 2s 99ms/step - loss: 0.4359 - accuracy: 0.8639 - val_loss: 0.5940 - val_accuracy: 0.7833\n",
      "Epoch 90/100\n",
      "17/17 [==============================] - 2s 100ms/step - loss: 0.4307 - accuracy: 0.8639 - val_loss: 0.5901 - val_accuracy: 0.7917\n",
      "Epoch 91/100\n",
      "17/17 [==============================] - 2s 101ms/step - loss: 0.4260 - accuracy: 0.8657 - val_loss: 0.5875 - val_accuracy: 0.7917\n",
      "Epoch 92/100\n",
      "17/17 [==============================] - 2s 105ms/step - loss: 0.4213 - accuracy: 0.8676 - val_loss: 0.5840 - val_accuracy: 0.7917\n",
      "Epoch 93/100\n",
      "17/17 [==============================] - 2s 99ms/step - loss: 0.4170 - accuracy: 0.8694 - val_loss: 0.5820 - val_accuracy: 0.7917\n",
      "Epoch 94/100\n",
      "17/17 [==============================] - 2s 99ms/step - loss: 0.4124 - accuracy: 0.8685 - val_loss: 0.5772 - val_accuracy: 0.7917\n",
      "Epoch 95/100\n",
      "17/17 [==============================] - 2s 99ms/step - loss: 0.4082 - accuracy: 0.8704 - val_loss: 0.5764 - val_accuracy: 0.7833\n",
      "Epoch 96/100\n",
      "17/17 [==============================] - 2s 99ms/step - loss: 0.4037 - accuracy: 0.8722 - val_loss: 0.5725 - val_accuracy: 0.7750\n",
      "Epoch 97/100\n",
      "17/17 [==============================] - 2s 99ms/step - loss: 0.3996 - accuracy: 0.8694 - val_loss: 0.5720 - val_accuracy: 0.7750\n",
      "Epoch 98/100\n",
      "17/17 [==============================] - 2s 94ms/step - loss: 0.3948 - accuracy: 0.8722 - val_loss: 0.5684 - val_accuracy: 0.7833\n",
      "Epoch 99/100\n",
      "17/17 [==============================] - 2s 100ms/step - loss: 0.3913 - accuracy: 0.8741 - val_loss: 0.5679 - val_accuracy: 0.7833\n",
      "Epoch 100/100\n",
      "17/17 [==============================] - 2s 106ms/step - loss: 0.3869 - accuracy: 0.8778 - val_loss: 0.5639 - val_accuracy: 0.7833\n"
     ]
    }
   ],
   "source": [
    "train_dataset = tf.data.Dataset.from_tensor_slices((X_train, Y_train)).batch(64)\n",
    "test_dataset = tf.data.Dataset.from_tensor_slices((X_test, Y_test)).batch(64)\n",
    "history = conv_model.fit(train_dataset, epochs=100, validation_data=test_dataset)"
   ]
  },
  {
   "cell_type": "markdown",
   "metadata": {},
   "source": [
    "<a name='5'></a>\n",
    "## 5 - History Object \n",
    "\n",
    "The history object is an output of the `.fit()` operation, and provides a record of all the loss and metric values in memory. It's stored as a dictionary that you can retrieve at `history.history`: "
   ]
  },
  {
   "cell_type": "code",
   "execution_count": 17,
   "metadata": {},
   "outputs": [
    {
     "data": {
      "text/plain": [
       "{'loss': [1.8955599069595337,\n",
       "  1.7964283227920532,\n",
       "  1.7887409925460815,\n",
       "  1.7847949266433716,\n",
       "  1.7816087007522583,\n",
       "  1.7781710624694824,\n",
       "  1.7740092277526855,\n",
       "  1.7699487209320068,\n",
       "  1.7654211521148682,\n",
       "  1.7599202394485474,\n",
       "  1.7536290884017944,\n",
       "  1.746339201927185,\n",
       "  1.7375147342681885,\n",
       "  1.7264232635498047,\n",
       "  1.7119779586791992,\n",
       "  1.6933757066726685,\n",
       "  1.669105052947998,\n",
       "  1.6397874355316162,\n",
       "  1.6051820516586304,\n",
       "  1.565108060836792,\n",
       "  1.5202432870864868,\n",
       "  1.4740331172943115,\n",
       "  1.426733374595642,\n",
       "  1.3803664445877075,\n",
       "  1.3361761569976807,\n",
       "  1.2946346998214722,\n",
       "  1.2558939456939697,\n",
       "  1.219266414642334,\n",
       "  1.1851955652236938,\n",
       "  1.1535425186157227,\n",
       "  1.1235229969024658,\n",
       "  1.0959124565124512,\n",
       "  1.0700377225875854,\n",
       "  1.0456732511520386,\n",
       "  1.0214133262634277,\n",
       "  1.0003076791763306,\n",
       "  0.9765264391899109,\n",
       "  0.9535729289054871,\n",
       "  0.9324275851249695,\n",
       "  0.9135464429855347,\n",
       "  0.8943669199943542,\n",
       "  0.8755975365638733,\n",
       "  0.857330322265625,\n",
       "  0.840262234210968,\n",
       "  0.8238323330879211,\n",
       "  0.8056631088256836,\n",
       "  0.7914385199546814,\n",
       "  0.7759048938751221,\n",
       "  0.7612221837043762,\n",
       "  0.7473137974739075,\n",
       "  0.7331733703613281,\n",
       "  0.7214933633804321,\n",
       "  0.7091456651687622,\n",
       "  0.6970818042755127,\n",
       "  0.6861972808837891,\n",
       "  0.6748191714286804,\n",
       "  0.664082407951355,\n",
       "  0.6527743339538574,\n",
       "  0.6427788734436035,\n",
       "  0.6326050758361816,\n",
       "  0.6230241656303406,\n",
       "  0.6135098934173584,\n",
       "  0.6048327684402466,\n",
       "  0.5963608026504517,\n",
       "  0.5878984332084656,\n",
       "  0.5801535248756409,\n",
       "  0.5718874335289001,\n",
       "  0.564434826374054,\n",
       "  0.5566823482513428,\n",
       "  0.5488060712814331,\n",
       "  0.5416399240493774,\n",
       "  0.5348954796791077,\n",
       "  0.5277637243270874,\n",
       "  0.5210391879081726,\n",
       "  0.5141550302505493,\n",
       "  0.5083066821098328,\n",
       "  0.5019069910049438,\n",
       "  0.4955703616142273,\n",
       "  0.48981475830078125,\n",
       "  0.48390841484069824,\n",
       "  0.4781647324562073,\n",
       "  0.47252482175827026,\n",
       "  0.46662476658821106,\n",
       "  0.46141600608825684,\n",
       "  0.4560140371322632,\n",
       "  0.4506358802318573,\n",
       "  0.4454552233219147,\n",
       "  0.44042083621025085,\n",
       "  0.43590840697288513,\n",
       "  0.4307129681110382,\n",
       "  0.42599859833717346,\n",
       "  0.4213346838951111,\n",
       "  0.41700559854507446,\n",
       "  0.4124114215373993,\n",
       "  0.4081861078739166,\n",
       "  0.4036668539047241,\n",
       "  0.39957115054130554,\n",
       "  0.3948284387588501,\n",
       "  0.3912554085254669,\n",
       "  0.38694652915000916],\n",
       " 'accuracy': [0.17037037014961243,\n",
       "  0.19074073433876038,\n",
       "  0.1814814805984497,\n",
       "  0.2074074000120163,\n",
       "  0.21111111342906952,\n",
       "  0.23796296119689941,\n",
       "  0.24444444477558136,\n",
       "  0.2611111104488373,\n",
       "  0.28240740299224854,\n",
       "  0.307407408952713,\n",
       "  0.32685184478759766,\n",
       "  0.35555556416511536,\n",
       "  0.38148146867752075,\n",
       "  0.3861111104488373,\n",
       "  0.4342592656612396,\n",
       "  0.4416666626930237,\n",
       "  0.4574074149131775,\n",
       "  0.48055556416511536,\n",
       "  0.49537035822868347,\n",
       "  0.5148147940635681,\n",
       "  0.5314815044403076,\n",
       "  0.539814829826355,\n",
       "  0.550000011920929,\n",
       "  0.5564814805984497,\n",
       "  0.5759259462356567,\n",
       "  0.5814814567565918,\n",
       "  0.5842592716217041,\n",
       "  0.6018518805503845,\n",
       "  0.6129629611968994,\n",
       "  0.6277777552604675,\n",
       "  0.6296296119689941,\n",
       "  0.6361111402511597,\n",
       "  0.6398147940635681,\n",
       "  0.6481481194496155,\n",
       "  0.6592592597007751,\n",
       "  0.6583333611488342,\n",
       "  0.664814829826355,\n",
       "  0.6796296238899231,\n",
       "  0.6796296238899231,\n",
       "  0.6861110925674438,\n",
       "  0.6907407641410828,\n",
       "  0.6916666626930237,\n",
       "  0.6981481313705444,\n",
       "  0.7046296000480652,\n",
       "  0.7148148417472839,\n",
       "  0.7231481671333313,\n",
       "  0.729629635810852,\n",
       "  0.7388888597488403,\n",
       "  0.7407407164573669,\n",
       "  0.7435185313224792,\n",
       "  0.7453703880310059,\n",
       "  0.7518518567085266,\n",
       "  0.7546296119689941,\n",
       "  0.7611111402511597,\n",
       "  0.7648147940635681,\n",
       "  0.7740740776062012,\n",
       "  0.7759259343147278,\n",
       "  0.7805555462837219,\n",
       "  0.7851851582527161,\n",
       "  0.789814829826355,\n",
       "  0.7944444417953491,\n",
       "  0.7972221970558167,\n",
       "  0.7990740537643433,\n",
       "  0.8027777671813965,\n",
       "  0.8074073791503906,\n",
       "  0.8101851940155029,\n",
       "  0.8111110925674438,\n",
       "  0.8120370507240295,\n",
       "  0.8120370507240295,\n",
       "  0.8175926208496094,\n",
       "  0.8175926208496094,\n",
       "  0.8185185194015503,\n",
       "  0.8212962746620178,\n",
       "  0.8231481313705444,\n",
       "  0.8268518447875977,\n",
       "  0.8277778029441833,\n",
       "  0.8342592716217041,\n",
       "  0.8342592716217041,\n",
       "  0.8370370268821716,\n",
       "  0.8398148417472839,\n",
       "  0.8407407402992249,\n",
       "  0.8425925970077515,\n",
       "  0.8462963104248047,\n",
       "  0.8481481671333313,\n",
       "  0.8490740656852722,\n",
       "  0.854629635810852,\n",
       "  0.8583333492279053,\n",
       "  0.8638888597488403,\n",
       "  0.8638888597488403,\n",
       "  0.8638888597488403,\n",
       "  0.8657407164573669,\n",
       "  0.8675925731658936,\n",
       "  0.8694444298744202,\n",
       "  0.8685185313224792,\n",
       "  0.8703703880310059,\n",
       "  0.8722222447395325,\n",
       "  0.8694444298744202,\n",
       "  0.8722222447395325,\n",
       "  0.8740741014480591,\n",
       "  0.8777777552604675],\n",
       " 'val_loss': [1.7972553968429565,\n",
       "  1.7902979850769043,\n",
       "  1.7825329303741455,\n",
       "  1.779591679573059,\n",
       "  1.777660846710205,\n",
       "  1.773840069770813,\n",
       "  1.770337700843811,\n",
       "  1.7660332918167114,\n",
       "  1.7612240314483643,\n",
       "  1.7557942867279053,\n",
       "  1.7493387460708618,\n",
       "  1.7415205240249634,\n",
       "  1.7315922975540161,\n",
       "  1.7206547260284424,\n",
       "  1.7042399644851685,\n",
       "  1.68369722366333,\n",
       "  1.659066081047058,\n",
       "  1.62897789478302,\n",
       "  1.5955138206481934,\n",
       "  1.5577492713928223,\n",
       "  1.5161972045898438,\n",
       "  1.4723658561706543,\n",
       "  1.4294946193695068,\n",
       "  1.389399766921997,\n",
       "  1.3513168096542358,\n",
       "  1.3153709173202515,\n",
       "  1.2792059183120728,\n",
       "  1.2482414245605469,\n",
       "  1.2166831493377686,\n",
       "  1.1879245042800903,\n",
       "  1.1608047485351562,\n",
       "  1.135486364364624,\n",
       "  1.1117640733718872,\n",
       "  1.0874558687210083,\n",
       "  1.0647236108779907,\n",
       "  1.0361651182174683,\n",
       "  1.0216424465179443,\n",
       "  0.9980604648590088,\n",
       "  0.9798477292060852,\n",
       "  0.9636465907096863,\n",
       "  0.9466456174850464,\n",
       "  0.9302040934562683,\n",
       "  0.9141493439674377,\n",
       "  0.901810348033905,\n",
       "  0.8851979374885559,\n",
       "  0.8703641891479492,\n",
       "  0.8635610342025757,\n",
       "  0.8482280969619751,\n",
       "  0.8383148908615112,\n",
       "  0.8255978226661682,\n",
       "  0.8158115744590759,\n",
       "  0.8056801557540894,\n",
       "  0.7961398959159851,\n",
       "  0.7875276207923889,\n",
       "  0.7781172394752502,\n",
       "  0.7698332667350769,\n",
       "  0.7601893544197083,\n",
       "  0.7520495057106018,\n",
       "  0.743148922920227,\n",
       "  0.7357621788978577,\n",
       "  0.7284263372421265,\n",
       "  0.7211647033691406,\n",
       "  0.7147836089134216,\n",
       "  0.7073188424110413,\n",
       "  0.702785849571228,\n",
       "  0.694269597530365,\n",
       "  0.689132809638977,\n",
       "  0.682632327079773,\n",
       "  0.6773841977119446,\n",
       "  0.6699546575546265,\n",
       "  0.6663492321968079,\n",
       "  0.6594753265380859,\n",
       "  0.6547511219978333,\n",
       "  0.6493611931800842,\n",
       "  0.6449488401412964,\n",
       "  0.6398260593414307,\n",
       "  0.6356393098831177,\n",
       "  0.6319065690040588,\n",
       "  0.6265503168106079,\n",
       "  0.6236933469772339,\n",
       "  0.618923544883728,\n",
       "  0.6155821681022644,\n",
       "  0.6107173562049866,\n",
       "  0.6082631349563599,\n",
       "  0.6056681871414185,\n",
       "  0.6030462980270386,\n",
       "  0.5986910462379456,\n",
       "  0.596282958984375,\n",
       "  0.5939562916755676,\n",
       "  0.5900723338127136,\n",
       "  0.5874713063240051,\n",
       "  0.5840181708335876,\n",
       "  0.5820176601409912,\n",
       "  0.5771524906158447,\n",
       "  0.5764360427856445,\n",
       "  0.5724868178367615,\n",
       "  0.5720165371894836,\n",
       "  0.5684031248092651,\n",
       "  0.5678939819335938,\n",
       "  0.563900887966156],\n",
       " 'val_accuracy': [0.21666666865348816,\n",
       "  0.18333333730697632,\n",
       "  0.2666666805744171,\n",
       "  0.28333333134651184,\n",
       "  0.22499999403953552,\n",
       "  0.3083333373069763,\n",
       "  0.2916666567325592,\n",
       "  0.32499998807907104,\n",
       "  0.32499998807907104,\n",
       "  0.36666667461395264,\n",
       "  0.3916666805744171,\n",
       "  0.4000000059604645,\n",
       "  0.4333333373069763,\n",
       "  0.4416666626930237,\n",
       "  0.4749999940395355,\n",
       "  0.4749999940395355,\n",
       "  0.4749999940395355,\n",
       "  0.4749999940395355,\n",
       "  0.5,\n",
       "  0.4833333194255829,\n",
       "  0.4749999940395355,\n",
       "  0.4833333194255829,\n",
       "  0.49166667461395264,\n",
       "  0.4833333194255829,\n",
       "  0.4749999940395355,\n",
       "  0.44999998807907104,\n",
       "  0.46666666865348816,\n",
       "  0.4833333194255829,\n",
       "  0.5083333253860474,\n",
       "  0.5166666507720947,\n",
       "  0.5416666865348816,\n",
       "  0.5333333611488342,\n",
       "  0.5416666865348816,\n",
       "  0.5833333134651184,\n",
       "  0.6083333492279053,\n",
       "  0.6083333492279053,\n",
       "  0.6416666507720947,\n",
       "  0.6666666865348816,\n",
       "  0.6333333253860474,\n",
       "  0.6499999761581421,\n",
       "  0.6666666865348816,\n",
       "  0.6833333373069763,\n",
       "  0.675000011920929,\n",
       "  0.6833333373069763,\n",
       "  0.6916666626930237,\n",
       "  0.6833333373069763,\n",
       "  0.675000011920929,\n",
       "  0.675000011920929,\n",
       "  0.6916666626930237,\n",
       "  0.699999988079071,\n",
       "  0.7166666388511658,\n",
       "  0.7166666388511658,\n",
       "  0.7166666388511658,\n",
       "  0.7166666388511658,\n",
       "  0.7250000238418579,\n",
       "  0.7166666388511658,\n",
       "  0.7250000238418579,\n",
       "  0.7416666746139526,\n",
       "  0.7416666746139526,\n",
       "  0.7416666746139526,\n",
       "  0.75,\n",
       "  0.75,\n",
       "  0.75,\n",
       "  0.75,\n",
       "  0.75,\n",
       "  0.75,\n",
       "  0.75,\n",
       "  0.75,\n",
       "  0.75,\n",
       "  0.75,\n",
       "  0.75,\n",
       "  0.75,\n",
       "  0.75,\n",
       "  0.75,\n",
       "  0.75,\n",
       "  0.7583333253860474,\n",
       "  0.7583333253860474,\n",
       "  0.7666666507720947,\n",
       "  0.7666666507720947,\n",
       "  0.7916666865348816,\n",
       "  0.7916666865348816,\n",
       "  0.7916666865348816,\n",
       "  0.7916666865348816,\n",
       "  0.7833333611488342,\n",
       "  0.7833333611488342,\n",
       "  0.7833333611488342,\n",
       "  0.7833333611488342,\n",
       "  0.7833333611488342,\n",
       "  0.7833333611488342,\n",
       "  0.7916666865348816,\n",
       "  0.7916666865348816,\n",
       "  0.7916666865348816,\n",
       "  0.7916666865348816,\n",
       "  0.7916666865348816,\n",
       "  0.7833333611488342,\n",
       "  0.7749999761581421,\n",
       "  0.7749999761581421,\n",
       "  0.7833333611488342,\n",
       "  0.7833333611488342,\n",
       "  0.7833333611488342]}"
      ]
     },
     "execution_count": 17,
     "metadata": {},
     "output_type": "execute_result"
    }
   ],
   "source": [
    "history.history"
   ]
  },
  {
   "cell_type": "markdown",
   "metadata": {},
   "source": [
    "Now visualize the loss over time using `history.history`: "
   ]
  },
  {
   "cell_type": "code",
   "execution_count": 18,
   "metadata": {},
   "outputs": [
    {
     "data": {
      "text/plain": [
       "[Text(0, 0.5, 'Accuracy'), Text(0.5, 0, 'Epoch')]"
      ]
     },
     "execution_count": 18,
     "metadata": {},
     "output_type": "execute_result"
    },
    {
     "data": {
      "image/png": "[encoded data removed]",
      "text/plain": [
       "<Figure size 864x576 with 1 Axes>"
      ]
     },
     "metadata": {
      "needs_background": "light"
     },
     "output_type": "display_data"
    },
    {
     "data": {
      "image/png": "[encoded data removed]",
      "text/plain": [
       "<Figure size 864x576 with 1 Axes>"
      ]
     },
     "metadata": {
      "needs_background": "light"
     },
     "output_type": "display_data"
    }
   ],
   "source": [
    "# The history.history[\"loss\"] entry is a dictionary with as many values as epochs that the\n",
    "# model was trained on. \n",
    "df_loss_acc = pd.DataFrame(history.history)\n",
    "df_loss= df_loss_acc[['loss','val_loss']]\n",
    "df_loss.rename(columns={'loss':'train','val_loss':'validation'},inplace=True)\n",
    "df_acc= df_loss_acc[['accuracy','val_accuracy']]\n",
    "df_acc.rename(columns={'accuracy':'train','val_accuracy':'validation'},inplace=True)\n",
    "df_loss.plot(title='Model loss',figsize=(12,8)).set(xlabel='Epoch',ylabel='Loss')\n",
    "df_acc.plot(title='Model Accuracy',figsize=(12,8)).set(xlabel='Epoch',ylabel='Accuracy')"
   ]
  },
  {
   "cell_type": "markdown",
   "metadata": {},
   "source": [
    "**Congratulations**! You've finished the assignment and built two models: One that recognizes  smiles, and another that recognizes SIGN language with almost 80% accuracy on the test set. In addition to that, you now also understand the applications of two Keras APIs: Sequential and Functional. Nicely done! \n",
    "\n",
    "By now, you know a bit about how the Functional API works and may have glimpsed the possibilities. In your next assignment, you'll really get a feel for its power when you get the opportunity to build a very deep ConvNet, using ResNets! "
   ]
  },
  {
   "cell_type": "markdown",
   "metadata": {},
   "source": [
    "<a name='6'></a>\n",
    "## 6 - Bibliography\n",
    "\n",
    "You're always encouraged to read the official documentation. To that end, you can find the docs for the Sequential and Functional APIs here: \n",
    "\n",
    "https://www.tensorflow.org/guide/keras/sequential_model\n",
    "\n",
    "https://www.tensorflow.org/guide/keras/functional"
   ]
  },
  {
   "cell_type": "code",
   "execution_count": null,
   "metadata": {},
   "outputs": [],
   "source": []
  }
 ],
 "metadata": {
  "coursera": {
   "course_slug": "convolutional-neural-networks",
   "graded_item_id": "bwbJV",
   "launcher_item_id": "0TkXB"
  },
  "kernelspec": {
   "display_name": "Python 3",
   "language": "python",
   "name": "python3"
  },
  "language_info": {
   "codemirror_mode": {
    "name": "ipython",
    "version": 3
   },
   "file_extension": ".py",
   "mimetype": "text/x-python",
   "name": "python",
   "nbconvert_exporter": "python",
   "pygments_lexer": "ipython3",
   "version": "3.7.6"
  }
 },
 "nbformat": 4,
 "nbformat_minor": 2
}
